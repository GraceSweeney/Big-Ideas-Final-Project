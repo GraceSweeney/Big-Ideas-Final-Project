{
 "cells": [
  {
   "cell_type": "code",
   "execution_count": 11,
   "metadata": {},
   "outputs": [
    {
     "name": "stdout",
     "output_type": "stream",
     "text": [
      "Central Business District      4440\n",
      "South Side Flats               3497\n",
      "Carrick                        2351\n",
      "East Allegheny                 2217\n",
      "Homewood South                 2090\n",
      "Homewood North                 1969\n",
      "East Liberty                   1889\n",
      "Marshall-Shadeland             1516\n",
      "Bluff                          1502\n",
      "Mount Washington               1434\n",
      "Hazelwood                      1396\n",
      "Brookline                      1390\n",
      "Lincoln-Lemington-Belmar       1362\n",
      "Knoxville                      1336\n",
      "Sheraden                       1285\n",
      "Allegheny Center               1244\n",
      "Beechview                      1201\n",
      "East Hills                     1194\n",
      "Brighton Heights               1114\n",
      "Perry South                    1057\n",
      "Bloomfield                      984\n",
      "Shadyside                       971\n",
      "Allentown                       947\n",
      "Middle Hill                     932\n",
      "Larimer                         879\n",
      "Central North Side              853\n",
      "Crawford-Roberts                839\n",
      "North Shore                     814\n",
      "Squirrel Hill South             812\n",
      "South Side Slopes               801\n",
      "Fineview                        796\n",
      "Homewood West                   764\n",
      "Garfield                        722\n",
      "Northview Heights               713\n",
      "Spring Hill-City View           711\n",
      "Bedford Dwellings               665\n",
      "Elliott                         663\n",
      "Crafton Heights                 601\n",
      "Perry North                     587\n",
      "Highland Park                   558\n",
      "Greenfield                      537\n",
      "Central Oakland                 521\n",
      "Strip District                  503\n",
      "Beltzhoover                     496\n",
      "Manchester                      471\n",
      "North Oakland                   455\n",
      "Chateau                         454\n",
      "Troy Hill                       437\n",
      "Central Lawrenceville           431\n",
      "Upper Hill                      370\n",
      "South Oakland                   354\n",
      "Overbrook                       331\n",
      "West Oakland                    325\n",
      "Outside City                    316\n",
      "California-Kirkbride            315\n",
      "Arlington                       312\n",
      "Point Breeze                    301\n",
      "South Shore                     301\n",
      "Terrace Village                 297\n",
      "Banksville                      291\n",
      "Squirrel Hill North             290\n",
      "West End                        290\n",
      "Point Breeze North              289\n",
      "Lower Lawrenceville             272\n",
      "Bon Air                         267\n",
      "Lincoln Place                   227\n",
      "Westwood                        226\n",
      "Stanton Heights                 223\n",
      "Spring Garden                   219\n",
      "Esplen                          200\n",
      "Duquesne Heights                191\n",
      "Upper Lawrenceville             189\n",
      "Morningside                     188\n",
      "Friendship                      174\n",
      "Glen Hazel                      169\n",
      "Polish Hill                     166\n",
      "Arlington Heights               155\n",
      "Allegheny West                  130\n",
      "Fairywood                       127\n",
      "Mount Oliver                    124\n",
      "Windgap                         124\n",
      "Hays                            120\n",
      "Golden Triangle/Civic Arena      83\n",
      "Oakwood                          82\n",
      "Summer Hill                      76\n",
      "Outside State                    67\n",
      "Outside County                   57\n",
      "St. Clair                        55\n",
      "East Carnegie                    48\n",
      "Chartiers City                   46\n",
      "Swisshelm Park                   43\n",
      "New Homestead                    39\n",
      "Ridgemont                        37\n",
      "Regent Square                    37\n",
      "Central Northside                23\n",
      "Mt. Oliver Boro                  18\n",
      "Troy Hill-Herrs Island            6\n",
      "Mt. Oliver Neighborhood           2\n",
      "Name: INCIDENTNEIGHBORHOOD, dtype: int64\n"
     ]
    },
    {
     "data": {
      "text/plain": [
       "<matplotlib.axes._subplots.AxesSubplot at 0x7f240b1d4a30>"
      ]
     },
     "execution_count": 11,
     "metadata": {},
     "output_type": "execute_result"
    },
    {
     "data": {
      "image/png": "[encoded data removed]",
      "text/plain": [
       "<Figure size 432x288 with 1 Axes>"
      ]
     },
     "metadata": {
      "needs_background": "light"
     },
     "output_type": "display_data"
    }
   ],
   "source": [
    "import pandas as pd\n",
    "\n",
    "arrests = pd.read_csv(\"arrests.tsv\", sep=\"\\t\")\n",
    "neighborhood_counts = arrests['INCIDENTNEIGHBORHOOD'].value_counts()\n",
    "pd.set_option('display.max_rows', None)\n",
    "print(neighborhood_counts)\n",
    "neighborhood_counts.plot()"
   ]
  },
  {
   "cell_type": "markdown",
   "metadata": {},
   "source": [
    "# Conclusion \n",
    "Since we decided to define the \"best neighborhood\" as the safest, the sub-metric that I chose was the number of arrests per neighborhood. The more arrests per neighborhoods, the less safe the neighborhood is. I used the dataset on Pittsburgh Police Arrest Data. The data suggests that the safest neighborhood is Mt. Oliver. However, my personal favorite is Shadyside. I enjoy Shadyside because of the shops and festivals that they hold over the summer. It makes sense that the number of arrests is higher than Mt. Oliver because there are a lot more events and stores that are in the area. "
   ]
  },
  {
   "cell_type": "code",
   "execution_count": null,
   "metadata": {},
   "outputs": [],
   "source": []
  }
 ],
 "metadata": {
  "kernelspec": {
   "display_name": "Python 3",
   "language": "python",
   "name": "python3"
  },
  "language_info": {
   "codemirror_mode": {
    "name": "ipython",
    "version": 3
   },
   "file_extension": ".py",
   "mimetype": "text/x-python",
   "name": "python",
   "nbconvert_exporter": "python",
   "pygments_lexer": "ipython3",
   "version": "3.8.3"
  }
 },
 "nbformat": 4,
 "nbformat_minor": 4
}
