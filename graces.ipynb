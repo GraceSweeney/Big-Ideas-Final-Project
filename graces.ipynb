{
 "cells": [
  {
   "cell_type": "code",
   "execution_count": 2,
   "metadata": {},
   "outputs": [
    {
     "name": "stdout",
     "output_type": "stream",
     "text": [
      "Central Business District      4440\n",
      "South Side Flats               3497\n",
      "Carrick                        2351\n",
      "East Allegheny                 2217\n",
      "Homewood South                 2090\n",
      "Homewood North                 1969\n",
      "East Liberty                   1889\n",
      "Marshall-Shadeland             1516\n",
      "Bluff                          1502\n",
      "Mount Washington               1434\n",
      "Hazelwood                      1396\n",
      "Brookline                      1390\n",
      "Lincoln-Lemington-Belmar       1362\n",
      "Knoxville                      1336\n",
      "Sheraden                       1285\n",
      "Allegheny Center               1244\n",
      "Beechview                      1201\n",
      "East Hills                     1194\n",
      "Brighton Heights               1114\n",
      "Perry South                    1057\n",
      "Bloomfield                      984\n",
      "Shadyside                       971\n",
      "Allentown                       947\n",
      "Middle Hill                     932\n",
      "Larimer                         879\n",
      "Central North Side              853\n",
      "Crawford-Roberts                839\n",
      "North Shore                     814\n",
      "Squirrel Hill South             812\n",
      "South Side Slopes               801\n",
      "Fineview                        796\n",
      "Homewood West                   764\n",
      "Garfield                        722\n",
      "Northview Heights               713\n",
      "Spring Hill-City View           711\n",
      "Bedford Dwellings               665\n",
      "Elliott                         663\n",
      "Crafton Heights                 601\n",
      "Perry North                     587\n",
      "Highland Park                   558\n",
      "Greenfield                      537\n",
      "Central Oakland                 521\n",
      "Strip District                  503\n",
      "Beltzhoover                     496\n",
      "Manchester                      471\n",
      "North Oakland                   455\n",
      "Chateau                         454\n",
      "Troy Hill                       437\n",
      "Central Lawrenceville           431\n",
      "Upper Hill                      370\n",
      "South Oakland                   354\n",
      "Overbrook                       331\n",
      "West Oakland                    325\n",
      "Outside City                    316\n",
      "California-Kirkbride            315\n",
      "Arlington                       312\n",
      "Point Breeze                    301\n",
      "South Shore                     301\n",
      "Terrace Village                 297\n",
      "Banksville                      291\n",
      "Squirrel Hill North             290\n",
      "West End                        290\n",
      "Point Breeze North              289\n",
      "Lower Lawrenceville             272\n",
      "Bon Air                         267\n",
      "Lincoln Place                   227\n",
      "Westwood                        226\n",
      "Stanton Heights                 223\n",
      "Spring Garden                   219\n",
      "Esplen                          200\n",
      "Duquesne Heights                191\n",
      "Upper Lawrenceville             189\n",
      "Morningside                     188\n",
      "Friendship                      174\n",
      "Glen Hazel                      169\n",
      "Polish Hill                     166\n",
      "Arlington Heights               155\n",
      "Allegheny West                  130\n",
      "Fairywood                       127\n",
      "Mount Oliver                    124\n",
      "Windgap                         124\n",
      "Hays                            120\n",
      "Golden Triangle/Civic Arena      83\n",
      "Oakwood                          82\n",
      "Summer Hill                      76\n",
      "Outside State                    67\n",
      "Outside County                   57\n",
      "St. Clair                        55\n",
      "East Carnegie                    48\n",
      "Chartiers City                   46\n",
      "Swisshelm Park                   43\n",
      "New Homestead                    39\n",
      "Ridgemont                        37\n",
      "Regent Square                    37\n",
      "Central Northside                23\n",
      "Mt. Oliver Boro                  18\n",
      "Troy Hill-Herrs Island            6\n",
      "Mt. Oliver Neighborhood           2\n",
      "Name: INCIDENTNEIGHBORHOOD, dtype: int64\n"
     ]
    },
    {
     "data": {
      "text/plain": [
       "<matplotlib.axes._subplots.AxesSubplot at 0x7f5ddc2363a0>"
      ]
     },
     "execution_count": 2,
     "metadata": {},
     "output_type": "execute_result"
    },
    {
     "data": {
      "image/png": "[encoded data removed]",
      "text/plain": [
       "<Figure size 432x288 with 1 Axes>"
      ]
     },
     "metadata": {
      "needs_background": "light"
     },
     "output_type": "display_data"
    }
   ],
   "source": [
    "import pandas as pd\n",
    "import pprint\n",
    "%matplotlib inline\n",
    "\n",
    "arrests = pd.read_csv(\"arrests.tsv\", sep=\"\\t\")\n",
    "neighborhood_counts = arrests['INCIDENTNEIGHBORHOOD'].value_counts()\n",
    "pd.set_option('display.max_rows', None)\n",
    "print(neighborhood_counts)\n",
    "neighborhood_counts.plot()"
   ]
  },
  {
   "cell_type": "code",
   "execution_count": 27,
   "metadata": {},
   "outputs": [
    {
     "name": "stdout",
     "output_type": "stream",
     "text": [
      "                 Neighborhood  2020_Total_Population\n",
      "66                  Shadyside                  15317\n",
      "75        Squirrel Hill South                  15317\n",
      "12                  Brookline                  13063\n",
      "74        Squirrel Hill North                  11879\n",
      "54              North Oakland                  10691\n",
      "14                    Carrick                  10290\n",
      "51           Mount Washington                   8710\n",
      "8                  Bloomfield                   8665\n",
      "6                   Beechview                   7596\n",
      "70           South Side Flats                   7467\n",
      "35                 Greenfield                   7261\n",
      "11           Brighton Heights                   7105\n",
      "38              Highland Park                   6235\n",
      "27               East Liberty                   6187\n",
      "9                       Bluff                   5882\n",
      "18            Central Oakland                   5835\n",
      "15  Central Business District                   5477\n",
      "61               Point Breeze                   5348\n",
      "67                   Sheraden                   5147\n",
      "16      Central Lawrenceville                   4720\n",
      "77            Stanton Heights                   4427\n",
      "71          South Side Slopes                   4327\n",
      "4                  Banksville                   4127\n",
      "48         Marshall-Shadeland                   4046\n",
      "21            Crafton Heights                   3999\n",
      "37                  Hazelwood                   3889\n",
      "60                Perry South                   3765\n",
      "59                Perry North                   3758\n",
      "33                   Garfield                   3643\n",
      "45   Lincoln-Lemington-Belmar                   3636\n",
      "42                  Knoxville                   3493\n",
      "58                  Overbrook                   3483\n",
      "87                   Westwood                   3332\n",
      "68              South Oakland                   3329\n",
      "50                Morningside                   3252\n",
      "44              Lincoln Place                   3155\n",
      "17          Central Northside                   2972\n",
      "26                 East Hills                   2892\n",
      "82                  Troy Hill                   2645\n",
      "46        Lower Lawrenceville                   2641\n",
      "39             Homewood North                   2617\n",
      "86               West Oakland                   2534\n",
      "23           Duquesne Heights                   2397\n",
      "84        Upper Lawrenceville                   2394\n",
      "73      Spring Hill-City View                   2364\n",
      "81            Terrace Village                   2320\n",
      "2                   Allentown                   2305\n",
      "22           Crawford-Roberts                   2293\n",
      "40             Homewood South                   2260\n",
      "28                    Elliott                   2193\n",
      "3                   Arlington                   2040\n",
      "47                 Manchester                   2031\n",
      "62         Point Breeze North                   1988\n",
      "32                 Friendship                   1963\n",
      "24             East Allegheny                   1903\n",
      "78             Strip District                   1845\n",
      "56          Northview Heights                   1769\n",
      "49                Middle Hill                   1757\n",
      "83                 Upper Hill                   1723\n",
      "7                 Beltzhoover                   1604\n",
      "43                    Larimer                   1545\n",
      "0            Allegheny Center                   1419\n",
      "5           Bedford Dwellings                   1386\n",
      "88                    Windgap                   1344\n",
      "80             Swisshelm Park                   1339\n",
      "63                Polish Hill                   1201\n",
      "31                   Fineview                   1140\n",
      "30                  Fairywood                   1092\n",
      "57                    Oakwood                   1025\n",
      "79                Summer Hill                    998\n",
      "64              Regent Square                    971\n",
      "53              New Homestead                    917\n",
      "72              Spring Garden                    786\n",
      "10                    Bon Air                    759\n",
      "13       California-Kirkbride                    709\n",
      "34                 Glen Hazel                    659\n",
      "41              Homewood West                    642\n",
      "1              Allegheny West                    540\n",
      "19             Chartiers City                    492\n",
      "25              East Carnegie                    491\n",
      "52                 Mt. Oliver                    443\n",
      "65                  Ridgemont                    390\n",
      "29                     Esplen                    322\n",
      "36                       Hays                    321\n",
      "55                North Shore                    301\n",
      "85                   West End                    205\n",
      "76                  St. Clair                    183\n",
      "69                South Shore                     29\n",
      "20                    Chateau                     19\n"
     ]
    },
    {
     "data": {
      "text/plain": [
       "<matplotlib.axes._subplots.AxesSubplot at 0x7f5dd9225460>"
      ]
     },
     "execution_count": 27,
     "metadata": {},
     "output_type": "execute_result"
    },
    {
     "data": {
      "image/png": "[encoded data removed]",
      "text/plain": [
       "<Figure size 432x288 with 1 Axes>"
      ]
     },
     "metadata": {
      "needs_background": "light"
     },
     "output_type": "display_data"
    }
   ],
   "source": [
    "population = pd.read_csv(\"population.tsv\", sep=\"\\t\")\n",
    "\n",
    "population['Neighborhood'] = population['Neighborhood'].replace(\"Arlington - Arlington Heights (Combined)\", \"Arlington\")\n",
    "population['Neighborhood'] = population['Neighborhood'].replace(\"Central Business District (Downtown)\", \"Central Business District\")\n",
    "population['Neighborhood'] = population['Neighborhood'].replace(\"Spring Hill-City\", \"Spring Hill-City View\")\n",
    "\n",
    "pop_data = population[['Neighborhood','2020_Total_Population']]\n",
    "pop_data = pop_data.sort_values(by = '2020_Total_Population', ascending=False)\n",
    "\n",
    "print(pop_data)\n",
    "pop_data.plot(x='Neighborhood', y='2020_Total_Population')"
   ]
  },
  {
   "cell_type": "code",
   "execution_count": 28,
   "metadata": {},
   "outputs": [
    {
     "name": "stdout",
     "output_type": "stream",
     "text": [
      "                 Neighborhood  Arrests_Per_Capita\n",
      "20                    Chateau           23.894737\n",
      "69                South Shore           10.379310\n",
      "55                North Shore            2.704319\n",
      "85                   West End            1.414634\n",
      "41              Homewood West            1.190031\n",
      "24             East Allegheny            1.165003\n",
      "40             Homewood South            0.924779\n",
      "0            Allegheny Center            0.876674\n",
      "15  Central Business District            0.810663\n",
      "39             Homewood North            0.752388\n",
      "31                   Fineview            0.698246\n",
      "29                     Esplen            0.621118\n",
      "43                    Larimer            0.568932\n",
      "49                Middle Hill            0.530450\n",
      "5           Bedford Dwellings            0.479798\n",
      "70           South Side Flats            0.468327\n",
      "13       California-Kirkbride            0.444288\n",
      "26                 East Hills            0.412863\n",
      "2                   Allentown            0.410846\n",
      "56          Northview Heights            0.403053\n",
      "42                  Knoxville            0.382479\n",
      "48         Marshall-Shadeland            0.374691\n",
      "45   Lincoln-Lemington-Belmar            0.374587\n",
      "36                       Hays            0.373832\n",
      "22           Crawford-Roberts            0.365896\n",
      "37                  Hazelwood            0.358961\n",
      "10                    Bon Air            0.351779\n",
      "7                 Beltzhoover            0.309227\n",
      "27               East Liberty            0.305318\n",
      "28                    Elliott            0.302326\n",
      "73      Spring Hill-City View            0.300761\n",
      "76                  St. Clair            0.300546\n",
      "60                Perry South            0.280744\n",
      "72              Spring Garden            0.278626\n",
      "78             Strip District            0.272629\n",
      "34                 Glen Hazel            0.256449\n",
      "9                       Bluff            0.255355\n",
      "67                   Sheraden            0.249660\n",
      "1              Allegheny West            0.240741\n",
      "47                 Manchester            0.231905\n",
      "14                    Carrick            0.228474\n",
      "83                 Upper Hill            0.214742\n",
      "33                   Garfield            0.198188\n",
      "71          South Side Slopes            0.185117\n",
      "82                  Troy Hill            0.165217\n",
      "51           Mount Washington            0.164638\n",
      "6                   Beechview            0.158110\n",
      "11           Brighton Heights            0.156791\n",
      "59                Perry North            0.156200\n",
      "3                   Arlington            0.152941\n",
      "21            Crafton Heights            0.150288\n",
      "62         Point Breeze North            0.145372\n",
      "63                Polish Hill            0.138218\n",
      "86               West Oakland            0.128256\n",
      "81            Terrace Village            0.128017\n",
      "30                  Fairywood            0.116300\n",
      "8                  Bloomfield            0.113560\n",
      "12                  Brookline            0.106407\n",
      "68              South Oakland            0.106338\n",
      "46        Lower Lawrenceville            0.102991\n",
      "25              East Carnegie            0.097760\n",
      "58                  Overbrook            0.095033\n",
      "65                  Ridgemont            0.094872\n",
      "19             Chartiers City            0.093496\n",
      "88                    Windgap            0.092262\n",
      "16      Central Lawrenceville            0.091314\n",
      "38              Highland Park            0.089495\n",
      "18            Central Oakland            0.089289\n",
      "32                 Friendship            0.088640\n",
      "57                    Oakwood            0.080000\n",
      "23           Duquesne Heights            0.079683\n",
      "84        Upper Lawrenceville            0.078947\n",
      "79                Summer Hill            0.076152\n",
      "35                 Greenfield            0.073957\n",
      "44              Lincoln Place            0.071949\n",
      "4                  Banksville            0.070511\n",
      "87                   Westwood            0.067827\n",
      "66                  Shadyside            0.063394\n",
      "50                Morningside            0.057811\n",
      "61               Point Breeze            0.056283\n",
      "75        Squirrel Hill South            0.053013\n",
      "77            Stanton Heights            0.050373\n",
      "54              North Oakland            0.042559\n",
      "53              New Homestead            0.042530\n",
      "64              Regent Square            0.038105\n",
      "80             Swisshelm Park            0.032114\n",
      "74        Squirrel Hill North            0.024413\n",
      "17          Central Northside            0.007739\n"
     ]
    },
    {
     "data": {
      "text/plain": [
       "<matplotlib.axes._subplots.AxesSubplot at 0x7f5dd91d01f0>"
      ]
     },
     "execution_count": 28,
     "metadata": {},
     "output_type": "execute_result"
    },
    {
     "data": {
      "image/png": "[encoded data removed]",
      "text/plain": [
       "<Figure size 432x288 with 1 Axes>"
      ]
     },
     "metadata": {
      "needs_background": "light"
     },
     "output_type": "display_data"
    }
   ],
   "source": [
    "merged_data = pd.merge(neighborhood_counts, pop_data, how='inner', left_index= True, right_on='Neighborhood')\n",
    "merged_data['Arrests_Per_Capita'] = merged_data['INCIDENTNEIGHBORHOOD'] / merged_data['2020_Total_Population']\n",
    "merged_data = merged_data.sort_values(by='Arrests_Per_Capita', ascending=False)\n",
    "print(merged_data[['Neighborhood', 'Arrests_Per_Capita']])\n",
    "merged_data[['Neighborhood', 'Arrests_Per_Capita']].set_index('Neighborhood').plot()"
   ]
  },
  {
   "cell_type": "markdown",
   "metadata": {},
   "source": [
    "# Conclusion \n",
    "Since we decided to define the \"best neighborhood\" as the safest, the sub-metric that I chose was the number of arrests per neighborhood. The more arrests per neighborhoods, the less safe the neighborhood is. I used the dataset on Pittsburgh Police Arrest Data. The data orginally suggests that the safest neighborhood is Mt. Oliver. We decided to calculate the per capita to make the data more fair across the three sets. This suggested that the best neighorhood is actually Central Northside. However, my personal favorite is Shadyside. I enjoy Shadyside because of the shops and festivals that they hold over the summer. It makes sense that the number of arrests is higher than Mt. Oliver because there are a lot more events and stores that are in the area. "
   ]
  },
  {
   "cell_type": "code",
   "execution_count": null,
   "metadata": {},
   "outputs": [],
   "source": []
  }
 ],
 "metadata": {
  "kernelspec": {
   "display_name": "Python 3",
   "language": "python",
   "name": "python3"
  },
  "language_info": {
   "codemirror_mode": {
    "name": "ipython",
    "version": 3
   },
   "file_extension": ".py",
   "mimetype": "text/x-python",
   "name": "python",
   "nbconvert_exporter": "python",
   "pygments_lexer": "ipython3",
   "version": "3.8.3"
  }
 },
 "nbformat": 4,
 "nbformat_minor": 4
}
